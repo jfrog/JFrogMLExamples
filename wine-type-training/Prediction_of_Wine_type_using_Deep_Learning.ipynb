{
  "cells": [
    {
      "cell_type": "code",
      "execution_count": null,
      "metadata": {
        "id": "SEcHmQtl-kdc"
      },
      "outputs": [],
      "source": [
        "# Import Required Libraries\n",
        "import matplotlib.pyplot as plt\n",
        "import pandas as pd\n",
        "import numpy as np\n",
        "import keras \n",
        "\n",
        "# Read in white wine data\n",
        "white = pd.read_csv('./winequality-white.csv', sep =';')\n",
        "\n",
        "# Read in red wine data\n",
        "red = pd.read_csv(\"./winequality-red.csv\", sep =';')"
      ]
    },
    {
      "cell_type": "code",
      "execution_count": null,
      "metadata": {
        "colab": {
          "base_uri": "https://localhost:8080/",
          "height": 206
        },
        "id": "20lpy0XJ_U75",
        "outputId": "496a5f55-650b-4d70-a5b9-b92d77f79388"
      },
      "outputs": [],
      "source": [
        "# First rows of `red`\n",
        "red.head()"
      ]
    },
    {
      "cell_type": "code",
      "execution_count": null,
      "metadata": {
        "colab": {
          "base_uri": "https://localhost:8080/",
          "height": 206
        },
        "id": "BAo0rPUC_Wwx",
        "outputId": "c7941a84-90da-478e-8720-c8b67bfea549"
      },
      "outputs": [],
      "source": [
        "# Last rows of `white`\n",
        "white.tail()"
      ]
    },
    {
      "cell_type": "code",
      "execution_count": null,
      "metadata": {
        "colab": {
          "base_uri": "https://localhost:8080/",
          "height": 206
        },
        "id": "cqRQSngr_Ykd",
        "outputId": "194a22e5-bf86-4cad-f6cc-1aa17e24d9e6"
      },
      "outputs": [],
      "source": [
        "# Take a sample of five rows of `red`\n",
        "red.sample(5)"
      ]
    },
    {
      "cell_type": "code",
      "execution_count": null,
      "metadata": {
        "colab": {
          "base_uri": "https://localhost:8080/",
          "height": 317
        },
        "id": "3BxnpEZf_ZlJ",
        "outputId": "457368ac-3060-45a3-e2ee-f1a482e86fdb"
      },
      "outputs": [],
      "source": [
        "# Describe `white`\n",
        "white.describe()"
      ]
    },
    {
      "cell_type": "code",
      "execution_count": null,
      "metadata": {
        "colab": {
          "base_uri": "https://localhost:8080/",
          "height": 423
        },
        "id": "rRmDe36F_av2",
        "outputId": "1b9c563a-40e3-460a-f9b8-ba7469288f33"
      },
      "outputs": [],
      "source": [
        "# Double check for null values in `red`\n",
        "pd.isnull(red)"
      ]
    },
    {
      "cell_type": "code",
      "execution_count": null,
      "metadata": {
        "colab": {
          "base_uri": "https://localhost:8080/",
          "height": 550
        },
        "id": "Lb94OzYj_b-Z",
        "outputId": "ee616daf-2dec-4e3e-95ac-38a568b3c8fe"
      },
      "outputs": [],
      "source": [
        "# Create Histogram\n",
        "fig, ax = plt.subplots(1, 2)\n",
        "\n",
        "ax[0].hist(red.alcohol, 10, facecolor ='red',\n",
        "\t\t\talpha = 0.5, label =\"Red wine\")\n",
        "\n",
        "ax[1].hist(white.alcohol, 10, facecolor ='white',\n",
        "\t\tec =\"black\", lw = 0.5, alpha = 0.5,\n",
        "\t\tlabel =\"White wine\")\n",
        "\n",
        "fig.subplots_adjust(left = 0, right = 1, bottom = 0,\n",
        "\t\t\ttop = 0.5, hspace = 0.05, wspace = 1)\n",
        "\n",
        "ax[0].set_ylim([0, 1000])\n",
        "ax[0].set_xlabel(\"Alcohol in % Vol\")\n",
        "ax[0].set_ylabel(\"Frequency\")\n",
        "ax[1].set_ylim([0, 1000])\n",
        "ax[1].set_xlabel(\"Alcohol in % Vol\")\n",
        "ax[1].set_ylabel(\"Frequency\")\n",
        "\n",
        "fig.suptitle(\"Distribution of Alcohol in % Vol\")\n",
        "plt.show()"
      ]
    },
    {
      "cell_type": "code",
      "execution_count": 8,
      "metadata": {
        "id": "K_tmOU8kAaiW"
      },
      "outputs": [],
      "source": [
        "# Add `type` column to `red` with price one\n",
        "red['type'] = 1\n",
        "\n",
        "# Add `type` column to `white` with price zero\n",
        "white['type'] = 0\n",
        "\n",
        "# conacat `white` to `red`\n",
        "wines = pd.concat([red, white], ignore_index=True)\n",
        "\n",
        "# Import `train_test_split` from `sklearn.model_selection`\n",
        "from sklearn.model_selection import train_test_split\n",
        "# Use .iloc for position based indexing\n",
        "X = wines.iloc[:, 0:11]\n",
        "y = np.ravel(wines.type)\n",
        "\n",
        "# Splitting the data set for training and validating\n",
        "X_train, X_test, y_train, y_test = train_test_split(\n",
        "\t\tX, y, test_size = 0.34, random_state = 45)"
      ]
    },
    {
      "cell_type": "code",
      "execution_count": null,
      "metadata": {
        "colab": {
          "base_uri": "https://localhost:8080/",
          "height": 280
        },
        "id": "m4RPkD-H_emL",
        "outputId": "9b1ff84f-de85-4b90-ade9-69832ec77a3a"
      },
      "outputs": [],
      "source": [
        "# Import `Sequential` from `keras.models`\n",
        "from keras.models import Sequential\n",
        "\n",
        "# Import `Dense` from `keras.layers`\n",
        "from keras.layers import Dense\n",
        "\n",
        "# Initialize the constructor\n",
        "model = Sequential()\n",
        "\n",
        "# Add an input layer\n",
        "model.add(Dense(12, activation ='relu', input_shape =(11, )))\n",
        "\n",
        "# Add one hidden layer\n",
        "model.add(Dense(9, activation ='relu'))\n",
        "\n",
        "# Add an output layer\n",
        "model.add(Dense(1, activation ='sigmoid'))\n",
        "\n",
        "# Model output shape\n",
        "model.output_shape\n",
        "\n",
        "# Model summary\n",
        "model.summary()\n",
        "\n",
        "# Model config\n",
        "model.get_config()\n",
        "\n",
        "# List all weight tensors\n",
        "model.get_weights()\n",
        "model.compile(loss ='binary_crossentropy',\n",
        "optimizer ='adam', metrics =['accuracy'])"
      ]
    },
    {
      "cell_type": "code",
      "execution_count": null,
      "metadata": {
        "colab": {
          "base_uri": "https://localhost:8080/"
        },
        "id": "7SX360Qb_fxs",
        "outputId": "d05a0f27-7811-4765-d466-cbb97cf04c49"
      },
      "outputs": [],
      "source": [
        "# Training Model\n",
        "model.fit(X_train, y_train, epochs = 3,\n",
        "\t\tbatch_size = 1, verbose = 1)\n",
        "\n",
        "# Predicting the Value\n",
        "y_pred = model.predict(X_test)\n",
        "print(y_pred)"
      ]
    }
  ],
  "metadata": {
    "colab": {
      "provenance": []
    },
    "kernelspec": {
      "display_name": "wine_conda",
      "language": "python",
      "name": "python3"
    },
    "language_info": {
      "codemirror_mode": {
        "name": "ipython",
        "version": 3
      },
      "file_extension": ".py",
      "mimetype": "text/x-python",
      "name": "python",
      "nbconvert_exporter": "python",
      "pygments_lexer": "ipython3",
      "version": "3.9.21"
    }
  },
  "nbformat": 4,
  "nbformat_minor": 0
}
