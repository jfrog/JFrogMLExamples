{
 "cells": [
  {
   "cell_type": "markdown",
   "id": "4d44dd2c",
   "metadata": {},
   "source": [
    "# 📚 Book Recommender Jupyter Notebook Outline\n",
    "\n",
    "## 🎯 What This Notebook Does\n",
    "\n",
    "This notebook builds a **content-based book recommendation system** that takes an ISBN as input and returns 10 similar book recommendations. Here's what we accomplish:\n",
    "\n",
    "### **📚 The Book Recommender:**\n",
    "- **Input**: Book ISBN (e.g., \"9780553103540\" for \"A Game of Thrones\")\n",
    "- **Output**: 10 similar books with titles, authors, genres, and similarity scores\n",
    "- **Algorithm**: TF-IDF vectorization + SVD dimensionality reduction + cosine similarity\n",
    "- **Training Data**: 40 popular books across Fantasy, Sci-Fi, Literary Fiction, and Romance\n",
    "\n",
    "### **🔧 Notebook Workflow:**\n",
    "1. **Wrap Algorithm in Class**: Create `BookRecommenderPipeline` - a scikit-learn compatible class\n",
    "2. **Train Locally**: Call `recommender.fit(df)` to build the complete recommendation system\n",
    "3. **Log as Scikit-Learn Model**: Use `frogml.scikit_learn.log_model()` to store model + serving code\n",
    "4. **Enable Production**: The logged model can be built and deployed as a real-time API\n",
    "\n",
    "### **🚀 Deployment Flow:**\n",
    "```\n",
    "┌─────────────────────────────────────┐\n",
    "│  LOCAL ENVIRONMENT                  │\n",
    "│  ✓ Train BookRecommenderPipeline    │\n",
    "│  ✓ Log to JFrogML Registry          │\n",
    "└─────────────────────────────────────┘\n",
    "              ↓\n",
    "┌─────────────────────────────────────┐\n",
    "│  JFROGML PLATFORM                   │\n",
    "│  ✓ Build (package as container)     │\n",
    "│  ✓ Deploy (launch as API endpoint)  │\n",
    "└─────────────────────────────────────┘\n",
    "```"
   ]
  },
  {
   "cell_type": "markdown",
   "id": "9f186881",
   "metadata": {},
   "source": [
    "## Setup & Data Loading"
   ]
  },
  {
   "cell_type": "code",
   "execution_count": 7,
   "id": "3b79c0a4",
   "metadata": {},
   "outputs": [
    {
     "name": "stdout",
     "output_type": "stream",
     "text": [
      "📚 Loaded 41 books\n"
     ]
    }
   ],
   "source": [
    "# Import libraries and load data\n",
    "import pandas as pd\n",
    "import numpy as np\n",
    "from sklearn.feature_extraction.text import TfidfVectorizer\n",
    "from sklearn.decomposition import TruncatedSVD\n",
    "from sklearn.metrics.pairwise import cosine_similarity\n",
    "import re\n",
    "\n",
    "# Load dataset\n",
    "df = pd.read_csv('main/books_dataset.csv')\n",
    "print(f\"📚 Loaded {len(df)} books\")"
   ]
  },
  {
   "cell_type": "markdown",
   "id": "1a6eea28",
   "metadata": {},
   "source": [
    "## BookRecommenderPipeline Class"
   ]
  },
  {
   "cell_type": "code",
   "execution_count": 8,
   "id": "0ff4ff53",
   "metadata": {},
   "outputs": [
    {
     "name": "stdout",
     "output_type": "stream",
     "text": [
      "✅ Complete pipeline with all serialized assets ready!\n"
     ]
    }
   ],
   "source": [
    "class BookRecommenderPipeline:\n",
    "    def __init__(self):\n",
    "        # All assets needed for serving will be stored here\n",
    "        self.tfidf_vectorizer = None\n",
    "        self.svd_model = None\n",
    "        self.similarity_matrix = None\n",
    "        self.book_metadata = None\n",
    "        self.isbn_to_index = {}\n",
    "        self.index_to_isbn = {}\n",
    "        self.is_fitted = False\n",
    "    \n",
    "    def fit(self, book_data):\n",
    "        # Create rich content features (title + author + genre + description)\n",
    "        content = (book_data['title'].fillna('') + ' ' + \n",
    "                  book_data['author'].fillna('') + ' ' + \n",
    "                  book_data['genre'].fillna('') + ' ' + \n",
    "                  book_data['description'].fillna(''))\n",
    "        \n",
    "        # Full performance TF-IDF + SVD + Similarity\n",
    "        self.tfidf_vectorizer = TfidfVectorizer(max_features=5000, stop_words='english')\n",
    "        tfidf_matrix = self.tfidf_vectorizer.fit_transform(content)\n",
    "        self.svd_model = TruncatedSVD(n_components=100, random_state=42)\n",
    "        features = self.svd_model.fit_transform(tfidf_matrix)\n",
    "        self.similarity_matrix = cosine_similarity(features)\n",
    "        \n",
    "        # Store all metadata and mappings (everything needed for serving)\n",
    "        self.book_metadata = book_data[['isbn', 'title', 'author', 'genre', 'rating']].copy()\n",
    "        self.isbn_to_index = {isbn: idx for idx, isbn in enumerate(book_data['isbn'])}\n",
    "        self.index_to_isbn = {idx: isbn for isbn, idx in self.isbn_to_index.items()}\n",
    "        self.is_fitted = True\n",
    "        return self\n",
    "    \n",
    "    def predict(self, isbn_list, top_n=10):\n",
    "        # This method contains all logic needed for serving\n",
    "        recommendations = []\n",
    "        for isbn in isbn_list:\n",
    "            if isbn in self.isbn_to_index:\n",
    "                idx = self.isbn_to_index[isbn]\n",
    "                scores = self.similarity_matrix[idx]\n",
    "                top_indices = np.argsort(scores)[::-1][1:top_n+1]\n",
    "                \n",
    "                for i in top_indices:\n",
    "                    book = self.book_metadata.iloc[i]\n",
    "                    recommendations.append({\n",
    "                        'input_isbn': isbn,\n",
    "                        'recommended_isbn': book['isbn'],\n",
    "                        'title': book['title'],\n",
    "                        'author': book['author'],\n",
    "                        'genre': book['genre'],\n",
    "                        'similarity_score': float(scores[i])\n",
    "                    })\n",
    "            else:\n",
    "                # Fallback to popular books\n",
    "                popular = self.book_metadata.nlargest(top_n, 'rating')\n",
    "                for _, book in popular.iterrows():\n",
    "                    recommendations.append({\n",
    "                        'input_isbn': isbn,\n",
    "                        'recommended_isbn': book['isbn'],\n",
    "                        'title': book['title'],\n",
    "                        'author': book['author'],\n",
    "                        'genre': book['genre'],\n",
    "                        'similarity_score': 0.8\n",
    "                    })\n",
    "        return recommendations\n",
    "\n",
    "print(\"✅ Complete pipeline with all serialized assets ready!\")"
   ]
  },
  {
   "cell_type": "markdown",
   "id": "78eeb745",
   "metadata": {},
   "source": [
    "## Train & Test"
   ]
  },
  {
   "cell_type": "code",
   "execution_count": 9,
   "id": "b6367feb",
   "metadata": {},
   "outputs": [
    {
     "name": "stdout",
     "output_type": "stream",
     "text": [
      "🧪 Test recommendations:\n",
      "- The Lord of the Rings by J.R.R. Tolkien\n",
      "- The Way of Kings by Brandon Sanderson\n",
      "- Harry Potter and the Goblet of Fire by J.K. Rowling\n"
     ]
    }
   ],
   "source": [
    "# Define hyperparameters (consolidated in one place)\n",
    "HYPERPARAMS = {\n",
    "    \"tfidf_max_features\": 5000,\n",
    "    \"tfidf_stop_words\": \"english\", \n",
    "    \"svd_components\": 100,\n",
    "    \"svd_random_state\": 42,\n",
    "    \"similarity_metric\": \"cosine\",\n",
    "    \"top_n_recommendations\": 10\n",
    "}\n",
    "\n",
    "# Train the model using consolidated hyperparameters\n",
    "recommender = BookRecommenderPipeline()\n",
    "recommender.fit(df)\n",
    "\n",
    "# Quick test\n",
    "test_recs = recommender.predict(['9780553103540'], top_n=HYPERPARAMS[\"top_n_recommendations\"])\n",
    "print(\"🧪 Test recommendations:\")\n",
    "for rec in test_recs[:3]:  # Show first 3\n",
    "    print(f\"- {rec['title']} by {rec['author']}\")"
   ]
  },
  {
   "cell_type": "markdown",
   "id": "59eef298",
   "metadata": {},
   "source": [
    "## Prepare Metadata"
   ]
  },
  {
   "cell_type": "code",
   "execution_count": 10,
   "id": "d63be4f7",
   "metadata": {},
   "outputs": [
    {
     "name": "stdout",
     "output_type": "stream",
     "text": [
      "✅ Metadata prepared for logging:\n",
      "📊 6 parameters, 11 metrics, 4 properties\n"
     ]
    }
   ],
   "source": [
    "# Calculate performance metrics\n",
    "avg_similarity = np.mean(recommender.similarity_matrix[np.triu_indices_from(recommender.similarity_matrix, k=1)])\n",
    "\n",
    "# Model properties (string metadata for categorization)\n",
    "MODEL_PROPERTIES = {\n",
    "    \"model_type\": \"content_based_recommender\",\n",
    "    \"algorithm\": \"tfidf_cosine_similarity\",\n",
    "    \"framework\": \"scikit_learn\", \n",
    "    \"domain\": \"book_recommendations\"\n",
    "}\n",
    "\n",
    "# Training parameters (use consolidated hyperparameters)\n",
    "MODEL_PARAMETERS = HYPERPARAMS.copy()\n",
    "\n",
    "# Performance metrics (calculated from trained model and data)\n",
    "# Note: Only use basic JSON-serializable types (int, float, str, bool)\n",
    "MODEL_METRICS = {\n",
    "    \"total_books\": int(len(df)),\n",
    "    \"total_genres\": int(len(df['genre'].unique())),\n",
    "    \"average_similarity\": float(avg_similarity),\n",
    "    \"similarity_matrix_rows\": int(recommender.similarity_matrix.shape[0]),\n",
    "    \"similarity_matrix_cols\": int(recommender.similarity_matrix.shape[1]),\n",
    "    \"average_rating\": float(df['rating'].mean()),\n",
    "    \"rating_std\": float(df['rating'].std()),\n",
    "    \"min_rating\": float(df['rating'].min()),\n",
    "    \"max_rating\": float(df['rating'].max()),\n",
    "    \"feature_dimensions\": int(HYPERPARAMS[\"svd_components\"]),\n",
    "    \"sparsity_ratio\": float(np.sum(recommender.similarity_matrix > 0.5) / recommender.similarity_matrix.size)\n",
    "}\n",
    "\n",
    "print(\"✅ Metadata prepared for logging:\")\n",
    "print(f\"📊 {len(MODEL_PARAMETERS)} parameters, {len(MODEL_METRICS)} metrics, {len(MODEL_PROPERTIES)} properties\")"
   ]
  },
  {
   "cell_type": "markdown",
   "id": "05e6c571",
   "metadata": {},
   "source": [
    "## Log to JFrogML Model Registry (Artifactory)"
   ]
  },
  {
   "cell_type": "code",
   "execution_count": 11,
   "id": "1ca6c9a2",
   "metadata": {},
   "outputs": [
    {
     "name": "stderr",
     "output_type": "stream",
     "text": [
      "INFO:frogml.sdk.model_version.utils.model_log_config:No version provided; using current datetime as the version\n",
      "INFO:ScikitLearnModelVersionManager:Logging model book_recommender to ml-prod\n",
      "INFO:JmlCustomerClient:Customer exists in JML.\n",
      "INFO:JmlCustomerClient:Getting project key for repository ml-prod\n",
      "INFO:frogml.sdk.model_version.utils.files_tools:Code directory, predict file and dependencies are provided. Setup template files for model_name book_recommender\n",
      "/private/var/folders/mt/wvz9xr_s7k3cwk3r0b96hyn00000gn/T/tmpchee4h7p/book_recommender.joblib: 100%|██████████| 151k/151k [00:00<00:00, 2.09GB/s]\n",
      "main/conda.yml: 100%|██████████| 165/165 [00:00<00:00, 2.90MB/s]\n",
      "/var/folders/mt/wvz9xr_s7k3cwk3r0b96hyn00000gn/T/tmpchee4h7p/code.zip: 100%|██████████| 2.52k/2.52k [00:00<00:00, 3.20kB/s]"
     ]
    },
    {
     "name": "stdout",
     "output_type": "stream",
     "text": [
      "2025-10-08 19:09:45,586 - INFO - frogml.storage.logging._log_config.frog_ml.__upload_model:540 - Model: \"book_recommender\", version: \"2025-10-08-16-09-41-901\" has been uploaded successfully\n"
     ]
    },
    {
     "name": "stderr",
     "output_type": "stream",
     "text": [
      "\n"
     ]
    },
    {
     "name": "stdout",
     "output_type": "stream",
     "text": [
      "✅ Model logged to registry!\n",
      "🚀 Ready for build and deployment in the JFrogML UI!\n"
     ]
    }
   ],
   "source": [
    "import frogml\n",
    "\n",
    "# Log model to JFrog ML Registry\n",
    "frogml.scikit_learn.log_model(\n",
    "    model=recommender,\n",
    "    model_name = \"book_recommender\",\n",
    "    repository = \"ml-prod\",\n",
    "    version = \"\",\n",
    "    properties = MODEL_PROPERTIES,\n",
    "    parameters = MODEL_PARAMETERS,\n",
    "    metrics = MODEL_METRICS,\n",
    "    dependencies = [\"main/conda.yml\"],\n",
    "    code_dir = \"serving_code\",\n",
    "    predict_file = \"serving_code/predict.py\"\n",
    ")\n",
    "\n",
    "print(\"✅ Model logged to registry!\")\n",
    "print(\"🚀 Ready for build and deployment in the JFrogML UI!\")"
   ]
  },
  {
   "cell_type": "markdown",
   "id": "110eeddb",
   "metadata": {},
   "source": [
    "\n",
    "## 🚀 After Running This Notebook\n",
    "\n",
    "### **What Gets Logged to JFrog ML Registry:**\n",
    "- ✅ **Complete BookRecommenderPipeline Object**: Pre-computed similarity matrix, TF-IDF vectorizer, book metadata, ISBN mappings\n",
    "- ✅ **Production Serving Code**: `serving_code/predictor.py` that handles ISBN input → 10 recommendations output\n",
    "- ✅ **Training Configuration**: TF-IDF parameters, SVD components, similarity metrics\n",
    "- ✅ **Model Performance**: Average similarity scores, dataset statistics\n",
    "\n",
    "### **Next Steps - Production Deployment:**\n",
    "\n",
    "#### **1. Build Container (JFrogML UI)**\n",
    "- Navigate to **JFrog UI → AI/ML → Models → \"book_recommender\"**\n",
    "- Click **\"Build Version\"** to package the BookRecommenderPipeline into a deployable container\n",
    "\n",
    "#### **2. Deploy API (JFrogML UI)**\n",
    "- Click **\"Deploy → Real-time\"** to launch as auto-scaling API endpoint\n",
    "- API accepts: `POST /predict` with `{\"isbn\": \"9780553103540\"}`\n",
    "- API returns: JSON with 10 book recommendations\n",
    "\n",
    "#### **3. Test Production API**\n",
    "```bash\n",
    "python test_live_endpoint.py\n",
    "# Sends \"A Game of Thrones\" ISBN → Gets fantasy book recommendations\n",
    "```"
   ]
  }
 ],
 "metadata": {
  "kernelspec": {
   "display_name": "qwak-new-3.11",
   "language": "python",
   "name": "python3"
  },
  "language_info": {
   "codemirror_mode": {
    "name": "ipython",
    "version": 3
   },
   "file_extension": ".py",
   "mimetype": "text/x-python",
   "name": "python",
   "nbconvert_exporter": "python",
   "pygments_lexer": "ipython3",
   "version": "3.11.11"
  }
 },
 "nbformat": 4,
 "nbformat_minor": 5
}
