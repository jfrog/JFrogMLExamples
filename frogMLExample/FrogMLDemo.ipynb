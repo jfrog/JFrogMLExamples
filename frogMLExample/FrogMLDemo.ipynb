{
 "cells": [
  {
   "cell_type": "code",
   "execution_count": null,
   "id": "6387b867-b256-4437-b34e-a67f3fe461aa",
   "metadata": {},
   "outputs": [],
   "source": [
    "## import model dependencies\n",
    "import os\n",
    "import numpy as np\n",
    "from qwak.feature_store.offline import OfflineClient\n",
    "\n",
    "import qwak\n",
    "from qwak.model.base import QwakModel\n",
    "from sklearn.metrics import f1_score\n",
    "from sklearn.model_selection import train_test_split\n",
    "from catboost import CatBoostClassifier, Pool\n",
    "import pandas as pd\n",
    "from qwak import qwak_timer\n",
    "from qwak.model.adapters import JsonOutputAdapter\n",
    "import matplotlib.pyplot as plt\n"
   ]
  },
  {
   "cell_type": "markdown",
   "id": "23ef8efe-6f18-409b-a7d7-20553288cabf",
   "metadata": {},
   "source": [
    "### Define Hyperparameteres"
   ]
  },
  {
   "cell_type": "code",
   "execution_count": null,
   "id": "6de64ef0-6d69-4a8b-9e4a-c21b56ce1f5b",
   "metadata": {},
   "outputs": [],
   "source": [
    "params = {\n",
    "    'iterations': 50,\n",
    "    'learning_rate': 0.2,\n",
    "    'eval_metric': 'Accuracy',\n",
    "    'logging_level': 'Silent',\n",
    "    'use_best_model': True\n",
    "}\n"
   ]
  },
  {
   "cell_type": "code",
   "execution_count": null,
   "id": "5c97922d-573e-44f4-965c-89044452ef3c",
   "metadata": {},
   "outputs": [],
   "source": [
    "### Define Model\n",
    "cb = CatBoostClassifier(**params)"
   ]
  },
  {
   "cell_type": "markdown",
   "id": "a845609c-e300-4a0f-9636-ed875c8c6805",
   "metadata": {},
   "source": [
    "### Load Training Data"
   ]
  },
  {
   "cell_type": "code",
   "execution_count": null,
   "id": "43402c57-7d4e-4ad0-abcd-43e90045864b",
   "metadata": {},
   "outputs": [],
   "source": [
    "df = pd.read_csv(\"main/training_data.csv\", index_col=0)"
   ]
  },
  {
   "cell_type": "code",
   "execution_count": null,
   "id": "847734f5-50ef-4841-ada4-36d4fbaa2be2",
   "metadata": {},
   "outputs": [],
   "source": [
    "df"
   ]
  },
  {
   "cell_type": "markdown",
   "id": "e2e7e8bf-11a1-4895-8973-f65a65b865ae",
   "metadata": {},
   "source": [
    "### Build Model"
   ]
  },
  {
   "cell_type": "code",
   "execution_count": null,
   "id": "4accaa5d-f413-43f7-93ab-570a2166d09f",
   "metadata": {},
   "outputs": [],
   "source": [
    "train_df = df[[\"job\", \"credit_amount\", \"duration\", \"purpose\"]]\n",
    "        \n",
    "y = df[\"risk\"].map({'good':1,'bad':0})\n",
    "\n",
    "\n",
    "categorical_features_indices = np.where(train_df.dtypes != np.float64)[0]\n",
    "X_train, X_validation, y_train, y_validation = train_test_split(train_df, y, test_size=0.25, random_state=42)\n",
    "\n",
    "train_pool = Pool(X_train, y_train, cat_features=categorical_features_indices)\n",
    "validate_pool = Pool(X_validation, y_validation, cat_features=categorical_features_indices)\n",
    "\n",
    "print(\"Fitting catboost model\")\n",
    "cb.fit(train_pool, eval_set=validate_pool)"
   ]
  },
  {
   "cell_type": "markdown",
   "id": "4dee41b6-420c-456e-9383-672efd6e49b4",
   "metadata": {},
   "source": [
    "### Evaluate Model"
   ]
  },
  {
   "cell_type": "code",
   "execution_count": null,
   "id": "961c57a0-ec20-4c09-ae15-57ac667a12de",
   "metadata": {},
   "outputs": [],
   "source": [
    "y_predicted = cb.predict(X_validation)"
   ]
  },
  {
   "cell_type": "code",
   "execution_count": null,
   "id": "14a6ab1f-a0e9-47b6-85a7-36d08152c5d7",
   "metadata": {},
   "outputs": [],
   "source": [
    "f1 = f1_score(y_validation, y_predicted)\n",
    "params['f1_score'] = f1"
   ]
  },
  {
   "cell_type": "code",
   "execution_count": null,
   "id": "95021558-586b-4dae-b60e-b7d2d4e1fe5b",
   "metadata": {},
   "outputs": [],
   "source": [
    "print(f1)"
   ]
  },
  {
   "cell_type": "code",
   "execution_count": null,
   "id": "36636746-77e6-49fa-a860-c5fe39a22ab2",
   "metadata": {},
   "outputs": [],
   "source": [
    "params = {k:str(v) for k,v in zip(params.keys(), params.values())}"
   ]
  },
  {
   "cell_type": "code",
   "execution_count": null,
   "id": "26f81585-cb2a-4136-a83c-648e86a59092",
   "metadata": {},
   "outputs": [],
   "source": [
    "params"
   ]
  },
  {
   "cell_type": "markdown",
   "id": "8b8dba67-21ef-4b87-acad-ad5bebfcda42",
   "metadata": {},
   "source": [
    "### Persist Model to Artifactory"
   ]
  },
  {
   "cell_type": "code",
   "execution_count": null,
   "id": "32a9de29-5373-4dbc-9ba2-e6214622f887",
   "metadata": {},
   "outputs": [],
   "source": [
    "import frogml\n",
    "\n",
    "repository = \"test-webinar-ml-local\"\n",
    "name = \"credit_risk_catboost\"\n",
    "namespace = \"jfrogmldemo\"\n",
    "version = \"0.4.2\"\n",
    "dependencies = [\"main/conda.yml\"]\n",
    "code_dir = \"main\"\n",
    "\n",
    "frogml.catboost.log_model(\n",
    "    model=cb,\n",
    "    repository=repository,\n",
    "    model_name=name,\n",
    "    version=version,\n",
    "    dependencies=dependencies,\n",
    "    properties=params,\n",
    "    code_dir=code_dir,\n",
    ")"
   ]
  },
  {
   "cell_type": "markdown",
   "id": "2a727bcc-bca6-48ba-80b9-125013d120fe",
   "metadata": {},
   "source": [
    "## Execute Structured Build"
   ]
  },
  {
   "cell_type": "code",
   "execution_count": null,
   "id": "e4572173-78ea-4bd9-a208-0717d9f0eef7",
   "metadata": {},
   "outputs": [],
   "source": [
    "import os\n",
    "import numpy as np\n",
    "from qwak.feature_store.offline import OfflineClient\n",
    "\n",
    "import qwak\n",
    "import frogml\n",
    "from frogml.catboost import log_model\n",
    "from qwak.model.base import QwakModel\n",
    "from sklearn.metrics import f1_score\n",
    "from sklearn.model_selection import train_test_split\n",
    "from catboost import CatBoostClassifier, Pool\n",
    "import pandas as pd\n",
    "from qwak import qwak_timer\n",
    "from qwak.model.adapters import JsonOutputAdapter\n",
    "import matplotlib.pyplot as plt\n",
    "\n",
    "RUNNING_FILE_ABSOLUTE_PATH = \"main/training_data.csv\"\n",
    "\n",
    "\n",
    "class RiskModel(QwakModel):\n",
    "\n",
    "    def __init__(self):\n",
    "        \n",
    "        self.params = {\n",
    "            'iterations': 50,\n",
    "            'learning_rate': 0.2,\n",
    "            'eval_metric': 'Accuracy',\n",
    "            'logging_level': 'Silent',\n",
    "            'use_best_model': True\n",
    "        }\n",
    "        self.catboost = CatBoostClassifier(**self.params)\n",
    "        self.metrics = {\n",
    "            'accuracy': 95,\n",
    "            'random_state': 43,\n",
    "            'test_size': .25\n",
    "        }\n",
    "        qwak.log_param(self.params)\n",
    "\n",
    "\n",
    "\n",
    "    def build(self):\n",
    "        \"\"\"\n",
    "        Build the Qwak model:\n",
    "            1. Fetch the feature values from the feature store\n",
    "            2. Train a naive Catboost model\n",
    "        \"\"\"\n",
    "        #file_absolute_path = os.path.dirname(os.path.abspath(__file__))\n",
    "        #df = pd.read_csv(f\"{file_absolute_path}/main/training_data.csv\", index_col=0)\n",
    "        df = pd.read_csv(\"./main/training_data.csv\", index_col=0)\n",
    "\n",
    "        train_df = df[[\"job\", \"credit_amount\", \"duration\", \"purpose\"]]\n",
    "        \n",
    "        y = df[\"risk\"].map({'good':1,'bad':0})\n",
    "\n",
    "\n",
    "        categorical_features_indices = np.where(train_df.dtypes != np.float64)[0]\n",
    "        X_train, X_validation, y_train, y_validation = train_test_split(train_df, y, test_size=0.25, random_state=42)\n",
    "\n",
    "        train_pool = Pool(X_train, y_train, cat_features=categorical_features_indices)\n",
    "        validate_pool = Pool(X_validation, y_validation, cat_features=categorical_features_indices)\n",
    "\n",
    "        print(\"Fitting catboost model\")\n",
    "        self.catboost.fit(train_pool, eval_set=validate_pool)\n",
    "\n",
    "        y_predicted = self.catboost.predict(X_validation)\n",
    "        f1 = f1_score(y_validation, y_predicted)\n",
    "        \n",
    "        qwak.log_metric({'f1_score': f1})\n",
    "        qwak.log_metric({'iterations': self.params['iterations']})\n",
    "        qwak.log_metric({'learning_rate': self.params['learning_rate']})\n",
    "        qwak.log_metric({'accuracy': self.metrics['accuracy']})\n",
    "        qwak.log_metric({'random_state': self.metrics['random_state']})\n",
    "        qwak.log_metric({'test_size': self.metrics['test_size']})\n",
    "\n",
    "    \n",
    "    \n",
    "        import datetime\n",
    "        self.visualize(self.catboost)\n",
    "        # qwak.log_file(\"loss_plot.png\", tag=\"credit_risk_graph\")\n",
    "        \n",
    "\n",
    "    def visualize(self, model):\n",
    "\n",
    "        loss = model.evals_result_[\"learn\"]['Logloss']\n",
    "        validation_loss = model.evals_result_[\"validation\"]['Logloss']\n",
    "        plt.figure(figsize=(10, 7))\n",
    "        plt.plot(loss, label=\"Training Correlation\")\n",
    "        plt.plot(validation_loss, label=\"Validation Correlation\")\n",
    "        plt.xlabel(\"Number of trees\")\n",
    "        plt.ylabel(\"Loss Value\")\n",
    "        plt.title(\"CatBoost Training Progress - Loss Values\")\n",
    "        plt.legend()\n",
    "        plt.grid()\n",
    "        plt.savefig(\"loss_plot.png\")\n",
    "\n",
    "    def schema(self):\n",
    "        from qwak.model.schema import ModelSchema, InferenceOutput, FeatureStoreInput, Entity\n",
    "        user_id = Entity(name=\"user_id\", type=str)\n",
    "        model_schema = ModelSchema(\n",
    "            entities=[user_id],\n",
    "            inputs=[\n",
    "                FeatureStoreInput(entity=user_id, name='qwak-snowflake-webinar.job'),\n",
    "                FeatureStoreInput(entity=user_id, name='qwak-snowflake-webinar.credit_amount'),\n",
    "                FeatureStoreInput(entity=user_id, name='qwak-snowflake-webinar.duration'),\n",
    "                FeatureStoreInput(entity=user_id, name='qwak-snowflake-webinar.purpose'),\n",
    "\n",
    "            ],\n",
    "            outputs=[\n",
    "                InferenceOutput(name=\"Risk\", type=float)\n",
    "            ])\n",
    "        return model_schema\n",
    "\n",
    "    # @qwak.api(feature_extraction=True)\n",
    "    def predict(self, df,extracted_df):\n",
    "        print(extracted_df)\n",
    "        #### {\"user_id\": \"xxxx-xxx-xxx-xxxx\"}\n",
    "        # analytics_logger.log(column='test',value='value')\n",
    "        with qwak_timer(\"test timer\"):\n",
    "            [i for i in range(1000000)]\n",
    "        renamed = extracted_df.rename(columns={\"qwak-snowflake-webinar.job\": \"job\",\"qwak-snowflake-webinar.credit_amount\": \"credit_amount\", \"qwak-snowflake-webinar.duration\": \"duration\",\"qwak-snowflake-webinar.purpose\": \"purpose\"})\n",
    "        prediction = pd.DataFrame(self.catboost.predict(renamed[[\"job\", \"credit_amount\", \"duration\", \"purpose\"]]),\n",
    "                            columns=['Risk'])\n",
    "        return prediction\n",
    "\n"
   ]
  },
  {
   "cell_type": "markdown",
   "id": "f05855b6-914c-4692-9a87-e378c3b83ff6",
   "metadata": {},
   "source": [
    "### Execute Build"
   ]
  },
  {
   "cell_type": "code",
   "execution_count": null,
   "id": "095579f5-36c3-4c31-949f-e5eb19987cfa",
   "metadata": {},
   "outputs": [],
   "source": [
    "from qwak import QwakClient\n",
    "from qwak.model.tools import run_local\n",
    "\n",
    "# Creating an instance of the Qwak client\n",
    "client = QwakClient()"
   ]
  },
  {
   "cell_type": "code",
   "execution_count": null,
   "id": "47a40304-2d9d-42b3-b15d-4129904742e0",
   "metadata": {},
   "outputs": [],
   "source": [
    "# Publishing the model to the JFrog ML\n",
    "model = RiskModel()\n",
    "model.build()\n",
    "\n",
    "client.build_model(\n",
    "  model_id='credit_risk',\n",
    "  prebuilt_qwak_model=model\n",
    ")"
   ]
  }
 ],
 "metadata": {
  "kernelspec": {
   "display_name": "catboost_poetry",
   "language": "python",
   "name": "python3"
  },
  "language_info": {
   "codemirror_mode": {
    "name": "ipython",
    "version": 3
   },
   "file_extension": ".py",
   "mimetype": "text/x-python",
   "name": "python",
   "nbconvert_exporter": "python",
   "pygments_lexer": "ipython3",
   "version": "3.9.22"
  }
 },
 "nbformat": 4,
 "nbformat_minor": 5
}
