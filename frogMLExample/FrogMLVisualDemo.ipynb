{
 "cells": [
  {
   "cell_type": "markdown",
   "metadata": {
    "vscode": {
     "languageId": "html"
    }
   },
   "source": [
    "FrogML & ML Repo"
   ]
  },
  {
   "cell_type": "markdown",
   "metadata": {},
   "source": [
    "Configure Artifactory to proxy PyPi and Huggingface"
   ]
  },
  {
   "cell_type": "code",
   "execution_count": null,
   "metadata": {},
   "outputs": [],
   "source": [
    "# My JFrog Credentials\n",
    "from google.colab import userdata\n",
    "JF_TOKEN = userdata.get('JF_TOKEN')\n",
    "JF_USER = userdata.get('JF_USER')\n",
    "JF_INSTANCE = userdata.get('JF_INSTANCE')\n",
    "PYTHON_REMOTE = \"sup-24-mlops-booth-python-remote/simple\""
   ]
  },
  {
   "cell_type": "code",
   "execution_count": null,
   "metadata": {},
   "outputs": [],
   "source": [
    "# Huggingface repository\n",
    "%env HF_HUB_ETAG_TIMEOUT=86400\n",
    "%env HF_HUB_DOWNLOAD_TIMEOUT=86400\n",
    "%env HF_TOKEN={JF_TOKEN}\n",
    "%env HF_ENDPOINT=https://soleng.jfrog.io/artifactory/api/huggingfaceml/sup-24-mlops-booth-hf-remote\n"
   ]
  }
 ],
 "metadata": {
  "kernelspec": {
   "display_name": ".venv",
   "language": "python",
   "name": "python3"
  },
  "language_info": {
   "codemirror_mode": {
    "name": "ipython",
    "version": 3
   },
   "file_extension": ".py",
   "mimetype": "text/x-python",
   "name": "python",
   "nbconvert_exporter": "python",
   "pygments_lexer": "ipython3",
   "version": "3.9.6"
  }
 },
 "nbformat": 4,
 "nbformat_minor": 2
}
